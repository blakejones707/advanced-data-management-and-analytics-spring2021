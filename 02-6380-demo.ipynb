{
 "cells": [
  {
   "cell_type": "code",
   "execution_count": 1,
   "metadata": {},
   "outputs": [],
   "source": [
    "x = 3 #input"
   ]
  },
  {
   "cell_type": "raw",
   "metadata": {},
   "source": [
    "1 + 2\n",
    "\n",
    "This just text\n",
    "\n",
    "- one\n",
    "- two"
   ]
  },
  {
   "cell_type": "code",
   "execution_count": 2,
   "metadata": {},
   "outputs": [],
   "source": [
    "x = x + 1 #analytics"
   ]
  },
  {
   "cell_type": "markdown",
   "metadata": {},
   "source": [
    "1 + 2\n",
    "\n",
    "This just text\n",
    "\n",
    "- one\n",
    "- two"
   ]
  },
  {
   "cell_type": "code",
   "execution_count": 3,
   "metadata": {},
   "outputs": [
    {
     "data": {
      "text/plain": [
       "4"
      ]
     },
     "execution_count": 3,
     "metadata": {},
     "output_type": "execute_result"
    }
   ],
   "source": [
    "x"
   ]
  },
  {
   "cell_type": "markdown",
   "metadata": {},
   "source": [
    "<p> A paragraph </p>\n",
    "\n",
    "<h1> Title </h1>"
   ]
  },
  {
   "cell_type": "markdown",
   "metadata": {},
   "source": [
    "A paragraph\n",
    "\n",
    "# Title\n",
    "\n",
    "## Subtitle"
   ]
  },
  {
   "cell_type": "markdown",
   "metadata": {},
   "source": [
    "Good morning.\n",
    "\n",
    "Let us start.\n",
    "\n",
    "This program is **analyzing** the performance of the *stock market*.\n",
    "The input is the data file bla bla.\n",
    "The output is save under ..."
   ]
  },
  {
   "cell_type": "markdown",
   "metadata": {},
   "source": [
    "### To-do list\n",
    "\n",
    "- Learn\n",
    "- Have fun\n",
    "\n",
    "1. Learn\n",
    "2. Have fun"
   ]
  },
  {
   "cell_type": "markdown",
   "metadata": {},
   "source": [
    "My teacher said `do *the* quiz`\n",
    "\n",
    "Start with `x = 1 * 2 * 3`\n",
    "\n",
    "Code in python\n",
    "\n",
    "```\n",
    "x = 1\n",
    "y = 2\n",
    "```"
   ]
  },
  {
   "cell_type": "markdown",
   "metadata": {},
   "source": [
    "https://www.terry.uga.edu/directory/mis/hani-safadi.html\n",
    "\n",
    "[My personal page](https://www.terry.uga.edu/directory/mis/hani-safadi.html)"
   ]
  },
  {
   "cell_type": "markdown",
   "metadata": {},
   "source": [
    "![My picture](https://www.terry.uga.edu/_resources/images/directory/faculty/Hani%20Safadi_CROP_WEB.jpg)"
   ]
  },
  {
   "cell_type": "markdown",
   "metadata": {},
   "source": [
    "![My picture](Hani_Safadi_CROP_WEB.jpg)"
   ]
  },
  {
   "cell_type": "markdown",
   "metadata": {},
   "source": [
    "|   Item  | Price |\n",
    "| ---     | -     |\n",
    "| Apples  | $0.99  |\n",
    "| Oranges | $0.89  |"
   ]
  },
  {
   "cell_type": "markdown",
   "metadata": {},
   "source": [
    "$ y = mx + b + \\frac{\\alpha}{\\pi}$"
   ]
  },
  {
   "cell_type": "raw",
   "metadata": {},
   "source": [
    "Latex"
   ]
  },
  {
   "cell_type": "code",
   "execution_count": null,
   "metadata": {},
   "outputs": [],
   "source": []
  }
 ],
 "metadata": {
  "kernelspec": {
   "display_name": "Python 3",
   "language": "python",
   "name": "python3"
  },
  "language_info": {
   "codemirror_mode": {
    "name": "ipython",
    "version": 3
   },
   "file_extension": ".py",
   "mimetype": "text/x-python",
   "name": "python",
   "nbconvert_exporter": "python",
   "pygments_lexer": "ipython3",
   "version": "3.8.5"
  }
 },
 "nbformat": 4,
 "nbformat_minor": 4
}
