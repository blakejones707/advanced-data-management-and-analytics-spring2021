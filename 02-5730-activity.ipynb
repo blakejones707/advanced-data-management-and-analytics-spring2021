{
 "cells": [
  {
   "cell_type": "markdown",
   "metadata": {},
   "source": [
    "# Advanced Data Management and Analytics - Spring 2021\n",
    "\n",
    "*The course syllabus is a general plan for the course; deviations announced to the class by the instructor may be necessary.*\n",
    "\n",
    "**Delivery mode:** Hybrid Synchronous\n",
    "\n",
    "- A certain number of students (as determined by the classroom capacity) join the instructor on a rotating basis for socially-distanced, face-to-face instruction during each class session, with remaining students joining synchronously through Zoom (or some other secure platform) during assigned class hours. The class will meet at the regularly scheduled days/times, with some students attending in person on campus and some students attending via Zoom or remotely."
   ]
  },
  {
   "cell_type": "markdown",
   "metadata": {},
   "source": [
    "|   |     |      |    |\n",
    "| ---      | ----   | ----      | ----     |\n",
    "| Preparation quizzes | Individual | 108 | 36 quizzes | "
   ]
  },
  {
   "cell_type": "code",
   "execution_count": null,
   "metadata": {},
   "outputs": [],
   "source": []
  }
 ],
 "metadata": {
  "kernelspec": {
   "display_name": "Python 3",
   "language": "python",
   "name": "python3"
  },
  "language_info": {
   "codemirror_mode": {
    "name": "ipython",
    "version": 3
   },
   "file_extension": ".py",
   "mimetype": "text/x-python",
   "name": "python",
   "nbconvert_exporter": "python",
   "pygments_lexer": "ipython3",
   "version": "3.8.5"
  }
 },
 "nbformat": 4,
 "nbformat_minor": 4
}
